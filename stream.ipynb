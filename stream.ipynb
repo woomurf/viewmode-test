{
 "cells": [
  {
   "cell_type": "markdown",
   "id": "138078a5",
   "metadata": {},
   "source": [
    "# stream"
   ]
  },
  {
   "cell_type": "markdown",
   "id": "dfc08a2d",
   "metadata": {},
   "source": [
    "### stdout"
   ]
  },
  {
   "cell_type": "code",
   "execution_count": 1,
   "id": "d1e262c7",
   "metadata": {},
   "outputs": [
    {
     "name": "stdout",
     "output_type": "stream",
     "text": [
      "1\n"
     ]
    }
   ],
   "source": [
    "print(1)"
   ]
  },
  {
   "cell_type": "markdown",
   "id": "305997e6",
   "metadata": {},
   "source": [
    "### stderr"
   ]
  },
  {
   "cell_type": "code",
   "execution_count": 8,
   "id": "e9d8bc7f",
   "metadata": {},
   "outputs": [
    {
     "name": "stderr",
     "output_type": "stream",
     "text": [
      "ERROR:root:1\n"
     ]
    }
   ],
   "source": [
    "import logging\n",
    "logging.error(\"1\")"
   ]
  },
  {
   "cell_type": "markdown",
   "id": "20aa6e4c",
   "metadata": {},
   "source": [
    "### logs"
   ]
  }
 ],
 "metadata": {
  "kernelspec": {
   "display_name": "Python 3",
   "language": "python",
   "name": "python3"
  },
  "language_info": {
   "codemirror_mode": {
    "name": "ipython",
    "version": 3
   },
   "file_extension": ".py",
   "mimetype": "text/x-python",
   "name": "python",
   "nbconvert_exporter": "python",
   "pygments_lexer": "ipython3",
   "version": "3.7.9"
  }
 },
 "nbformat": 4,
 "nbformat_minor": 5
}
