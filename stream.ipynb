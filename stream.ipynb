{
 "cells": [
  {
   "cell_type": "markdown",
   "id": "432bfc18",
   "metadata": {},
   "source": [
    "# stream"
   ]
  },
  {
   "cell_type": "markdown",
   "id": "04fe429e",
   "metadata": {},
   "source": [
    "### stdout"
   ]
  },
  {
   "cell_type": "code",
   "execution_count": 1,
   "id": "8350d2c9",
   "metadata": {},
   "outputs": [
    {
     "name": "stdout",
     "output_type": "stream",
     "text": [
      "1\n"
     ]
    }
   ],
   "source": [
    "print(1)"
   ]
  },
  {
   "cell_type": "markdown",
   "id": "ebc274b1",
   "metadata": {},
   "source": [
    "### stderr"
   ]
  },
  {
   "cell_type": "code",
   "execution_count": 8,
   "id": "e1b5be1b",
   "metadata": {},
   "outputs": [
    {
     "name": "stderr",
     "output_type": "stream",
     "text": [
      "ERROR:root:1\n"
     ]
    }
   ],
   "source": [
    "import logging\n",
    "logging.error(\"1\")"
   ]
  },
  {
   "cell_type": "markdown",
   "id": "45319102",
   "metadata": {},
   "source": [
    "### logs"
   ]
  },
  {
   "cell_type": "code",
   "execution_count": 16,
   "id": "e4990cb7",
   "metadata": {},
   "outputs": [
    {
     "name": "stderr",
     "output_type": "stream",
     "text": [
      "DEBUG:logging_test:debug message\n",
      "INFO:logging_test:info message\n",
      "/opt/conda/lib/python3.7/site-packages/ipykernel_launcher.py:6: DeprecationWarning: The 'warn' method is deprecated, use 'warning' instead\n",
      "  \n",
      "WARNING:logging_test:warn message\n",
      "ERROR:logging_test:error message\n",
      "CRITICAL:logging_test:critical message\n"
     ]
    }
   ],
   "source": [
    "import logging\n",
    "\n",
    "logger = logging.getLogger('logging_test')\n",
    "logger.debug('debug message')\n",
    "logger.info('info message')\n",
    "logger.warn('warn message')\n",
    "logger.error('error message')\n",
    "logger.critical('critical message')"
   ]
  },
  {
   "cell_type": "code",
   "execution_count": null,
   "id": "722c52dd",
   "metadata": {},
   "outputs": [],
   "source": []
  }
 ],
 "metadata": {
  "kernelspec": {
   "display_name": "Python 3",
   "language": "python",
   "name": "python3"
  },
  "language_info": {
   "codemirror_mode": {
    "name": "ipython",
    "version": 3
   },
   "file_extension": ".py",
   "mimetype": "text/x-python",
   "name": "python",
   "nbconvert_exporter": "python",
   "pygments_lexer": "ipython3",
   "version": "3.7.9"
  }
 },
 "nbformat": 4,
 "nbformat_minor": 5
}
